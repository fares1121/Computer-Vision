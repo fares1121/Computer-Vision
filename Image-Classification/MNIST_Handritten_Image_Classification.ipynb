{
  "nbformat": 4,
  "nbformat_minor": 0,
  "metadata": {
    "colab": {
      "provenance": []
    },
    "kernelspec": {
      "name": "python3",
      "display_name": "Python 3"
    },
    "language_info": {
      "name": "python"
    }
  },
  "cells": [
    {
      "cell_type": "markdown",
      "source": [
        "# **MNIST Handwritten Digits Dataset Classification**"
      ],
      "metadata": {
        "id": "El3l9qrDCKan"
      }
    },
    {
      "cell_type": "markdown",
      "source": [
        "# Multi-layer Perception Model using Scikit-learn"
      ],
      "metadata": {
        "id": "DGnKrcaDCYL-"
      }
    },
    {
      "cell_type": "markdown",
      "source": [
        "We will train and test a multi-layer perception model to classify images from the MNIST handwritten digits dataset using Scikit-learn."
      ],
      "metadata": {
        "id": "SvP6G0TvCj3J"
      }
    },
    {
      "cell_type": "markdown",
      "source": [
        "**Load Dataset**"
      ],
      "metadata": {
        "id": "MWj5ZYxsDhJ3"
      }
    },
    {
      "cell_type": "markdown",
      "source": [
        "Use fetch_openml method to download the original MNIST dataset and load it into memory."
      ],
      "metadata": {
        "id": "kZNEX4aNDpOy"
      }
    },
    {
      "cell_type": "code",
      "metadata": {
        "id": "MefuasTHjBvI",
        "colab": {
          "base_uri": "https://localhost:8080/"
        },
        "outputId": "58890a1a-4f24-4de1-f4a5-5e47ed7073b8"
      },
      "source": [
        "from sklearn.datasets import fetch_openml\n",
        "\n",
        "X, Y = fetch_openml('mnist_784', version=1, return_X_y=True, as_frame=False)\n",
        "X = X / 255.  # Scale the pixel values to be in [0, 1]\n",
        "\n",
        "print(X.shape)\n",
        "print(Y.shape)"
      ],
      "execution_count": null,
      "outputs": [
        {
          "output_type": "stream",
          "name": "stdout",
          "text": [
            "(70000, 784)\n",
            "(70000,)\n"
          ]
        }
      ]
    },
    {
      "cell_type": "markdown",
      "source": [
        "**Split Dataset into Train/Test Sets**"
      ],
      "metadata": {
        "id": "Ktlndz2DE18P"
      }
    },
    {
      "cell_type": "code",
      "metadata": {
        "id": "j4IkRKKHyzkI",
        "colab": {
          "base_uri": "https://localhost:8080/"
        },
        "outputId": "5a3bae06-3185-4c1e-c132-99c7557ab8ac"
      },
      "source": [
        "from sklearn.model_selection import train_test_split\n",
        "\n",
        "X_train, X_test, Y_train, Y_test = train_test_split(X, Y, test_size=10000, random_state=42)\n",
        "\n",
        "print(X_train.shape)\n",
        "print(X_test.shape)"
      ],
      "execution_count": null,
      "outputs": [
        {
          "output_type": "stream",
          "name": "stdout",
          "text": [
            "(60000, 784)\n",
            "(10000, 784)\n"
          ]
        }
      ]
    },
    {
      "cell_type": "markdown",
      "source": [
        "**Show Example From Training Set With Its Label**"
      ],
      "metadata": {
        "id": "Xbv3Ya2mFDEv"
      }
    },
    {
      "cell_type": "markdown",
      "source": [
        "Reshape an example into a 28 x 28 matrix and plot it using matplotlib."
      ],
      "metadata": {
        "id": "FP-OAeemFSuJ"
      }
    },
    {
      "cell_type": "code",
      "metadata": {
        "id": "ZOmvIG8A0bRr",
        "colab": {
          "base_uri": "https://localhost:8080/",
          "height": 447
        },
        "outputId": "157cb455-5532-43d4-b381-19aafbb53821"
      },
      "source": [
        "import matplotlib.pyplot as plt\n",
        "\n",
        "img_id = 22\n",
        "image = X_train[img_id].reshape((28, 28))\n",
        "label = Y_train[img_id]\n",
        "\n",
        "plt.imshow(image)\n",
        "plt.show()\n",
        "print(label)"
      ],
      "execution_count": null,
      "outputs": [
        {
          "output_type": "display_data",
          "data": {
            "text/plain": [
              "<Figure size 640x480 with 1 Axes>"
            ],
            "image/png": "[encoded data removed]"
          },
          "metadata": {}
        },
        {
          "output_type": "stream",
          "name": "stdout",
          "text": [
            "9\n"
          ]
        }
      ]
    },
    {
      "cell_type": "markdown",
      "source": [
        "**Define and Train MLP Classifier**"
      ],
      "metadata": {
        "id": "PT-2tJLiFzVy"
      }
    },
    {
      "cell_type": "markdown",
      "source": [
        "Define and train MLP classifier with one hidden layer that contains 50 neurons and use ReLU activation. It will be trained using SGD for 30 epochs. 'verbose=True' will be set to track the training progress."
      ],
      "metadata": {
        "id": "j2Y6ZhKoF4sb"
      }
    },
    {
      "cell_type": "code",
      "metadata": {
        "id": "34kjAIGf6Ghn",
        "colab": {
          "base_uri": "https://localhost:8080/",
          "height": 650
        },
        "outputId": "63580a51-dee8-40d8-84fa-b8d9b9094de1"
      },
      "source": [
        "from sklearn.neural_network import MLPClassifier\n",
        "\n",
        "mlp = MLPClassifier(hidden_layer_sizes=(50,), max_iter=30, solver='sgd', verbose=True)\n",
        "mlp.fit(X_train, Y_train)"
      ],
      "execution_count": null,
      "outputs": [
        {
          "output_type": "stream",
          "name": "stdout",
          "text": [
            "Iteration 1, loss = 1.58307950\n",
            "Iteration 2, loss = 0.76625652\n",
            "Iteration 3, loss = 0.55893136\n",
            "Iteration 4, loss = 0.47648085\n",
            "Iteration 5, loss = 0.43139551\n",
            "Iteration 6, loss = 0.40231641\n",
            "Iteration 7, loss = 0.38152939\n",
            "Iteration 8, loss = 0.36542500\n",
            "Iteration 9, loss = 0.35245953\n",
            "Iteration 10, loss = 0.34158813\n",
            "Iteration 11, loss = 0.33215306\n",
            "Iteration 12, loss = 0.32387406\n",
            "Iteration 13, loss = 0.31653576\n",
            "Iteration 14, loss = 0.30975341\n",
            "Iteration 15, loss = 0.30351441\n",
            "Iteration 16, loss = 0.29782328\n",
            "Iteration 17, loss = 0.29248974\n",
            "Iteration 18, loss = 0.28749517\n",
            "Iteration 19, loss = 0.28275300\n",
            "Iteration 20, loss = 0.27827608\n",
            "Iteration 21, loss = 0.27406147\n",
            "Iteration 22, loss = 0.27001334\n",
            "Iteration 23, loss = 0.26613900\n",
            "Iteration 24, loss = 0.26228056\n",
            "Iteration 25, loss = 0.25869787\n",
            "Iteration 26, loss = 0.25526666\n",
            "Iteration 27, loss = 0.25191672\n",
            "Iteration 28, loss = 0.24867761\n",
            "Iteration 29, loss = 0.24567084\n",
            "Iteration 30, loss = 0.24250908\n"
          ]
        },
        {
          "output_type": "stream",
          "name": "stderr",
          "text": [
            "/usr/local/lib/python3.10/dist-packages/sklearn/neural_network/_multilayer_perceptron.py:686: ConvergenceWarning: Stochastic Optimizer: Maximum iterations (30) reached and the optimization hasn't converged yet.\n",
            "  warnings.warn(\n"
          ]
        },
        {
          "output_type": "execute_result",
          "data": {
            "text/plain": [
              "MLPClassifier(hidden_layer_sizes=(50,), max_iter=30, solver='sgd', verbose=True)"
            ],
            "text/html": [
              "<style>#sk-container-id-1 {color: black;background-color: white;}#sk-container-id-1 pre{padding: 0;}#sk-container-id-1 div.sk-toggleable {background-color: white;}#sk-container-id-1 label.sk-toggleable__label {cursor: pointer;display: block;width: 100%;margin-bottom: 0;padding: 0.3em;box-sizing: border-box;text-align: center;}#sk-container-id-1 label.sk-toggleable__label-arrow:before {content: \"▸\";float: left;margin-right: 0.25em;color: #696969;}#sk-container-id-1 label.sk-toggleable__label-arrow:hover:before {color: black;}#sk-container-id-1 div.sk-estimator:hover label.sk-toggleable__label-arrow:before {color: black;}#sk-container-id-1 div.sk-toggleable__content {max-height: 0;max-width: 0;overflow: hidden;text-align: left;background-color: #f0f8ff;}#sk-container-id-1 div.sk-toggleable__content pre {margin: 0.2em;color: black;border-radius: 0.25em;background-color: #f0f8ff;}#sk-container-id-1 input.sk-toggleable__control:checked~div.sk-toggleable__content {max-height: 200px;max-width: 100%;overflow: auto;}#sk-container-id-1 input.sk-toggleable__control:checked~label.sk-toggleable__label-arrow:before {content: \"▾\";}#sk-container-id-1 div.sk-estimator input.sk-toggleable__control:checked~label.sk-toggleable__label {background-color: #d4ebff;}#sk-container-id-1 div.sk-label input.sk-toggleable__control:checked~label.sk-toggleable__label {background-color: #d4ebff;}#sk-container-id-1 input.sk-hidden--visually {border: 0;clip: rect(1px 1px 1px 1px);clip: rect(1px, 1px, 1px, 1px);height: 1px;margin: -1px;overflow: hidden;padding: 0;position: absolute;width: 1px;}#sk-container-id-1 div.sk-estimator {font-family: monospace;background-color: #f0f8ff;border: 1px dotted black;border-radius: 0.25em;box-sizing: border-box;margin-bottom: 0.5em;}#sk-container-id-1 div.sk-estimator:hover {background-color: #d4ebff;}#sk-container-id-1 div.sk-parallel-item::after {content: \"\";width: 100%;border-bottom: 1px solid gray;flex-grow: 1;}#sk-container-id-1 div.sk-label:hover label.sk-toggleable__label {background-color: #d4ebff;}#sk-container-id-1 div.sk-serial::before {content: \"\";position: absolute;border-left: 1px solid gray;box-sizing: border-box;top: 0;bottom: 0;left: 50%;z-index: 0;}#sk-container-id-1 div.sk-serial {display: flex;flex-direction: column;align-items: center;background-color: white;padding-right: 0.2em;padding-left: 0.2em;position: relative;}#sk-container-id-1 div.sk-item {position: relative;z-index: 1;}#sk-container-id-1 div.sk-parallel {display: flex;align-items: stretch;justify-content: center;background-color: white;position: relative;}#sk-container-id-1 div.sk-item::before, #sk-container-id-1 div.sk-parallel-item::before {content: \"\";position: absolute;border-left: 1px solid gray;box-sizing: border-box;top: 0;bottom: 0;left: 50%;z-index: -1;}#sk-container-id-1 div.sk-parallel-item {display: flex;flex-direction: column;z-index: 1;position: relative;background-color: white;}#sk-container-id-1 div.sk-parallel-item:first-child::after {align-self: flex-end;width: 50%;}#sk-container-id-1 div.sk-parallel-item:last-child::after {align-self: flex-start;width: 50%;}#sk-container-id-1 div.sk-parallel-item:only-child::after {width: 0;}#sk-container-id-1 div.sk-dashed-wrapped {border: 1px dashed gray;margin: 0 0.4em 0.5em 0.4em;box-sizing: border-box;padding-bottom: 0.4em;background-color: white;}#sk-container-id-1 div.sk-label label {font-family: monospace;font-weight: bold;display: inline-block;line-height: 1.2em;}#sk-container-id-1 div.sk-label-container {text-align: center;}#sk-container-id-1 div.sk-container {/* jupyter's `normalize.less` sets `[hidden] { display: none; }` but bootstrap.min.css set `[hidden] { display: none !important; }` so we also need the `!important` here to be able to override the default hidden behavior on the sphinx rendered scikit-learn.org. See: https://github.com/scikit-learn/scikit-learn/issues/21755 */display: inline-block !important;position: relative;}#sk-container-id-1 div.sk-text-repr-fallback {display: none;}</style><div id=\"sk-container-id-1\" class=\"sk-top-container\"><div class=\"sk-text-repr-fallback\"><pre>MLPClassifier(hidden_layer_sizes=(50,), max_iter=30, solver=&#x27;sgd&#x27;, verbose=True)</pre><b>In a Jupyter environment, please rerun this cell to show the HTML representation or trust the notebook. <br />On GitHub, the HTML representation is unable to render, please try loading this page with nbviewer.org.</b></div><div class=\"sk-container\" hidden><div class=\"sk-item\"><div class=\"sk-estimator sk-toggleable\"><input class=\"sk-toggleable__control sk-hidden--visually\" id=\"sk-estimator-id-1\" type=\"checkbox\" checked><label for=\"sk-estimator-id-1\" class=\"sk-toggleable__label sk-toggleable__label-arrow\">MLPClassifier</label><div class=\"sk-toggleable__content\"><pre>MLPClassifier(hidden_layer_sizes=(50,), max_iter=30, solver=&#x27;sgd&#x27;, verbose=True)</pre></div></div></div></div></div>"
            ]
          },
          "metadata": {},
          "execution_count": 8
        }
      ]
    },
    {
      "cell_type": "markdown",
      "source": [
        "**Show Example From Test Set and Its Predicted Label**"
      ],
      "metadata": {
        "id": "NtG5idJMK61R"
      }
    },
    {
      "cell_type": "code",
      "metadata": {
        "id": "8K4UYbZx6Yu7",
        "colab": {
          "base_uri": "https://localhost:8080/",
          "height": 447
        },
        "outputId": "787219c4-f7d2-4487-c773-402f15bf0974"
      },
      "source": [
        "img_id = 8\n",
        "image = X_test[img_id]\n",
        "\n",
        "# Convert the image into 28 x 28 matrix to plot\n",
        "plt.imshow(image.reshape((28, 28)))\n",
        "plt.show()\n",
        "\n",
        "# Convert the image vector into a matrix 1 x 784 (a dataset with 1 example) before prediction\n",
        "predicted_label = mlp.predict(image.reshape((1, 784)))\n",
        "print(predicted_label)"
      ],
      "execution_count": null,
      "outputs": [
        {
          "output_type": "display_data",
          "data": {
            "text/plain": [
              "<Figure size 640x480 with 1 Axes>"
            ],
            "image/png": "[encoded data removed]"
          },
          "metadata": {}
        },
        {
          "output_type": "stream",
          "name": "stdout",
          "text": [
            "['7']\n"
          ]
        }
      ]
    },
    {
      "cell_type": "markdown",
      "source": [
        "**Evaluate The Trained MLP On The Test Set**"
      ],
      "metadata": {
        "id": "65nV3jrALPwG"
      }
    },
    {
      "cell_type": "code",
      "metadata": {
        "id": "RYHTLYBl6nzI",
        "colab": {
          "base_uri": "https://localhost:8080/"
        },
        "outputId": "f591708e-4fc9-4ae2-853b-5d1d1b6d28ce"
      },
      "source": [
        "from sklearn.metrics import accuracy_score\n",
        "\n",
        "Y_pred = mlp.predict(X_test)\n",
        "acc = accuracy_score(Y_test, Y_pred)\n",
        "print('Accuracy on test set:', acc)"
      ],
      "execution_count": null,
      "outputs": [
        {
          "output_type": "stream",
          "name": "stdout",
          "text": [
            "Accuracy on test set: 0.9292\n"
          ]
        }
      ]
    },
    {
      "cell_type": "markdown",
      "source": [
        "# Multi-layer Perception Model Using Keras"
      ],
      "metadata": {
        "id": "gFQIyAN9QPM6"
      }
    },
    {
      "cell_type": "markdown",
      "source": [
        "We will train and test a multi-layer perception model to classify images from the MNIST handwritten digits dataset using Keras."
      ],
      "metadata": {
        "id": "8vV7hhIhQcRS"
      }
    },
    {
      "cell_type": "markdown",
      "source": [
        "**Load Dataset**"
      ],
      "metadata": {
        "id": "fZjRwf3TQt-q"
      }
    },
    {
      "cell_type": "markdown",
      "source": [
        "Download the data, load it into memory, and convert pixel values to [0, 1] using Keras API."
      ],
      "metadata": {
        "id": "oFof-O3ZQyAy"
      }
    },
    {
      "cell_type": "code",
      "metadata": {
        "id": "N8WM9P0lLYas",
        "colab": {
          "base_uri": "https://localhost:8080/"
        },
        "outputId": "8fa8b79b-6d06-40d5-dc16-02194932e534"
      },
      "source": [
        "from keras.datasets import mnist\n",
        "\n",
        "(X_train, Y_train), (X_test, Y_test) = mnist.load_data()\n",
        "X_train = X_train.astype('float32') / 255\n",
        "X_test = X_test.astype('float32') / 255\n",
        "\n",
        "print(X_train.shape, Y_train.shape)\n",
        "print(X_test.shape, Y_test.shape)"
      ],
      "execution_count": null,
      "outputs": [
        {
          "output_type": "stream",
          "name": "stdout",
          "text": [
            "Downloading data from https://storage.googleapis.com/tensorflow/tf-keras-datasets/mnist.npz\n",
            "11490434/11490434 [==============================] - 0s 0us/step\n",
            "(60000, 28, 28) (60000,)\n",
            "(10000, 28, 28) (10000,)\n"
          ]
        }
      ]
    },
    {
      "cell_type": "markdown",
      "source": [
        "**Show Example From Training Set With Its Label**"
      ],
      "metadata": {
        "id": "j8Nagb4kRTyp"
      }
    },
    {
      "cell_type": "code",
      "metadata": {
        "id": "WffFB6scGCh0",
        "colab": {
          "base_uri": "https://localhost:8080/",
          "height": 447
        },
        "outputId": "b331adbb-cd29-4ebc-dafe-d0d43bd50eae"
      },
      "source": [
        "import matplotlib.pyplot as plt\n",
        "\n",
        "img_id = 9\n",
        "image = X_train[img_id]\n",
        "label = Y_train[img_id]\n",
        "\n",
        "plt.imshow(image)\n",
        "plt.show()\n",
        "print(label)"
      ],
      "execution_count": null,
      "outputs": [
        {
          "output_type": "display_data",
          "data": {
            "text/plain": [
              "<Figure size 640x480 with 1 Axes>"
            ],
            "image/png": "[encoded data removed]"
          },
          "metadata": {}
        },
        {
          "output_type": "stream",
          "name": "stdout",
          "text": [
            "4\n"
          ]
        }
      ]
    },
    {
      "cell_type": "markdown",
      "source": [
        "**Flatten The Inputs Into Vectors**"
      ],
      "metadata": {
        "id": "4QQ2gB5iRcJv"
      }
    },
    {
      "cell_type": "markdown",
      "source": [
        "The images loaded with Keras are not flattened. So, we flatten them into vectors to train the MLP model."
      ],
      "metadata": {
        "id": "nUWq7kkPRi8J"
      }
    },
    {
      "cell_type": "code",
      "metadata": {
        "id": "FMW07LxNKkcG",
        "colab": {
          "base_uri": "https://localhost:8080/"
        },
        "outputId": "47700964-64e4-440b-d62d-0d6163aa196e"
      },
      "source": [
        "X_train = X_train.reshape(-1, 28*28)\n",
        "X_test = X_test.reshape(-1, 28*28)\n",
        "\n",
        "print(X_train.shape, X_test.shape)"
      ],
      "execution_count": null,
      "outputs": [
        {
          "output_type": "stream",
          "name": "stdout",
          "text": [
            "(60000, 784) (10000, 784)\n"
          ]
        }
      ]
    },
    {
      "cell_type": "markdown",
      "source": [
        "**Convert Label Vectors Into One-hot Encodings**"
      ],
      "metadata": {
        "id": "BhVDgnyCR6eI"
      }
    },
    {
      "cell_type": "markdown",
      "source": [
        "Use the to_categorial method to convert the labels into one-hot encoding vectors."
      ],
      "metadata": {
        "id": "ZivTGADRSIhn"
      }
    },
    {
      "cell_type": "code",
      "metadata": {
        "id": "0rPJrL4xL8rh",
        "colab": {
          "base_uri": "https://localhost:8080/"
        },
        "outputId": "3867d706-d53b-45ec-f96e-0ce39f42d0b7"
      },
      "source": [
        "from keras.utils import to_categorical\n",
        "\n",
        "num_classes = 10\n",
        "Y_train = to_categorical(Y_train, num_classes)\n",
        "Y_test = to_categorical(Y_test, num_classes)\n",
        "\n",
        "print(Y_train.shape, Y_test.shape)"
      ],
      "execution_count": null,
      "outputs": [
        {
          "output_type": "stream",
          "name": "stdout",
          "text": [
            "(60000, 10) (10000, 10)\n"
          ]
        }
      ]
    },
    {
      "cell_type": "markdown",
      "source": [
        "**Define The MLP Model**"
      ],
      "metadata": {
        "id": "KAAtQ5lWSaJF"
      }
    },
    {
      "cell_type": "markdown",
      "source": [
        "Use Sequential model and Dense layers to define the MLP model. The model will be defined as a Sequential model, and then layers will be added to it one by one."
      ],
      "metadata": {
        "id": "y7xF-ehzSdoJ"
      }
    },
    {
      "cell_type": "code",
      "metadata": {
        "id": "XElZvngXCsT6"
      },
      "source": [
        "from keras.models import Sequential\n",
        "from keras.layers import Dense\n",
        "\n",
        "model = Sequential()\n",
        "model.add(Dense(50, activation='relu'))\n",
        "model.add(Dense(50, activation='relu'))\n",
        "model.add(Dense(10, activation='softmax'))"
      ],
      "execution_count": null,
      "outputs": []
    },
    {
      "cell_type": "markdown",
      "source": [
        "**Compile The Model**"
      ],
      "metadata": {
        "id": "8j3aZIFXTF93"
      }
    },
    {
      "cell_type": "markdown",
      "source": [
        "Use cross entropy loss and the SGD optimizer to train the Keras model. The evaluation matrix will be accurancy."
      ],
      "metadata": {
        "id": "jCiyg8p5TO6B"
      }
    },
    {
      "cell_type": "code",
      "metadata": {
        "id": "c25OV_XaJgIT"
      },
      "source": [
        "model.compile(loss='categorical_crossentropy', optimizer='sgd', metrics=['accuracy'])"
      ],
      "execution_count": null,
      "outputs": []
    },
    {
      "cell_type": "markdown",
      "source": [
        "**Train The Model**"
      ],
      "metadata": {
        "id": "5psOOcpkTnlg"
      }
    },
    {
      "cell_type": "markdown",
      "source": [
        "Use fit(...) method to train the model specifying the number of epochs and batch size for training."
      ],
      "metadata": {
        "id": "EQroCB2MTqLR"
      }
    },
    {
      "cell_type": "code",
      "metadata": {
        "id": "O4d4eFVnFY8R",
        "colab": {
          "base_uri": "https://localhost:8080/"
        },
        "outputId": "afc4f112-332c-4cf2-926f-b69105edb323"
      },
      "source": [
        "model.fit(X_train, Y_train, epochs=100, batch_size=128)"
      ],
      "execution_count": null,
      "outputs": [
        {
          "output_type": "stream",
          "name": "stdout",
          "text": [
            "Epoch 1/100\n",
            "469/469 [==============================] - 3s 4ms/step - loss: 1.5701 - accuracy: 0.5555\n",
            "Epoch 2/100\n",
            "469/469 [==============================] - 1s 3ms/step - loss: 0.5753 - accuracy: 0.8573\n",
            "Epoch 3/100\n",
            "469/469 [==============================] - 1s 3ms/step - loss: 0.4204 - accuracy: 0.8858\n",
            "Epoch 4/100\n",
            "469/469 [==============================] - 1s 3ms/step - loss: 0.3661 - accuracy: 0.8978\n",
            "Epoch 5/100\n",
            "469/469 [==============================] - 1s 3ms/step - loss: 0.3361 - accuracy: 0.9053\n",
            "Epoch 6/100\n",
            "469/469 [==============================] - 1s 3ms/step - loss: 0.3151 - accuracy: 0.9109\n",
            "Epoch 7/100\n",
            "469/469 [==============================] - 2s 5ms/step - loss: 0.2985 - accuracy: 0.9158\n",
            "Epoch 8/100\n",
            "469/469 [==============================] - 2s 4ms/step - loss: 0.2853 - accuracy: 0.9193\n",
            "Epoch 9/100\n",
            "469/469 [==============================] - 2s 4ms/step - loss: 0.2736 - accuracy: 0.9228\n",
            "Epoch 10/100\n",
            "469/469 [==============================] - 3s 6ms/step - loss: 0.2632 - accuracy: 0.9251\n",
            "Epoch 11/100\n",
            "469/469 [==============================] - 2s 5ms/step - loss: 0.2540 - accuracy: 0.9280\n",
            "Epoch 12/100\n",
            "469/469 [==============================] - 2s 3ms/step - loss: 0.2455 - accuracy: 0.9300\n",
            "Epoch 13/100\n",
            "469/469 [==============================] - 2s 4ms/step - loss: 0.2377 - accuracy: 0.9323\n",
            "Epoch 14/100\n",
            "469/469 [==============================] - 2s 5ms/step - loss: 0.2302 - accuracy: 0.9344\n",
            "Epoch 15/100\n",
            "469/469 [==============================] - 2s 4ms/step - loss: 0.2235 - accuracy: 0.9369\n",
            "Epoch 16/100\n",
            "469/469 [==============================] - 1s 3ms/step - loss: 0.2172 - accuracy: 0.9383\n",
            "Epoch 17/100\n",
            "469/469 [==============================] - 1s 3ms/step - loss: 0.2111 - accuracy: 0.9400\n",
            "Epoch 18/100\n",
            "469/469 [==============================] - 1s 3ms/step - loss: 0.2054 - accuracy: 0.9418\n",
            "Epoch 19/100\n",
            "469/469 [==============================] - 1s 3ms/step - loss: 0.2000 - accuracy: 0.9435\n",
            "Epoch 20/100\n",
            "469/469 [==============================] - 1s 3ms/step - loss: 0.1949 - accuracy: 0.9450\n",
            "Epoch 21/100\n",
            "469/469 [==============================] - 1s 3ms/step - loss: 0.1903 - accuracy: 0.9460\n",
            "Epoch 22/100\n",
            "469/469 [==============================] - 2s 4ms/step - loss: 0.1858 - accuracy: 0.9474\n",
            "Epoch 23/100\n",
            "469/469 [==============================] - 2s 5ms/step - loss: 0.1812 - accuracy: 0.9491\n",
            "Epoch 24/100\n",
            "469/469 [==============================] - 1s 3ms/step - loss: 0.1773 - accuracy: 0.9502\n",
            "Epoch 25/100\n",
            "469/469 [==============================] - 1s 3ms/step - loss: 0.1733 - accuracy: 0.9512\n",
            "Epoch 26/100\n",
            "469/469 [==============================] - 1s 3ms/step - loss: 0.1693 - accuracy: 0.9528\n",
            "Epoch 27/100\n",
            "469/469 [==============================] - 1s 3ms/step - loss: 0.1658 - accuracy: 0.9533\n",
            "Epoch 28/100\n",
            "469/469 [==============================] - 1s 3ms/step - loss: 0.1622 - accuracy: 0.9548\n",
            "Epoch 29/100\n",
            "469/469 [==============================] - 1s 3ms/step - loss: 0.1591 - accuracy: 0.9555\n",
            "Epoch 30/100\n",
            "469/469 [==============================] - 2s 3ms/step - loss: 0.1559 - accuracy: 0.9565\n",
            "Epoch 31/100\n",
            "469/469 [==============================] - 2s 5ms/step - loss: 0.1528 - accuracy: 0.9574\n",
            "Epoch 32/100\n",
            "469/469 [==============================] - 2s 4ms/step - loss: 0.1501 - accuracy: 0.9583\n",
            "Epoch 33/100\n",
            "469/469 [==============================] - 1s 3ms/step - loss: 0.1473 - accuracy: 0.9586\n",
            "Epoch 34/100\n",
            "469/469 [==============================] - 1s 3ms/step - loss: 0.1445 - accuracy: 0.9598\n",
            "Epoch 35/100\n",
            "469/469 [==============================] - 1s 3ms/step - loss: 0.1419 - accuracy: 0.9600\n",
            "Epoch 36/100\n",
            "469/469 [==============================] - 1s 3ms/step - loss: 0.1396 - accuracy: 0.9607\n",
            "Epoch 37/100\n",
            "469/469 [==============================] - 1s 3ms/step - loss: 0.1369 - accuracy: 0.9614\n",
            "Epoch 38/100\n",
            "469/469 [==============================] - 1s 3ms/step - loss: 0.1347 - accuracy: 0.9621\n",
            "Epoch 39/100\n",
            "469/469 [==============================] - 2s 4ms/step - loss: 0.1322 - accuracy: 0.9629\n",
            "Epoch 40/100\n",
            "469/469 [==============================] - 2s 5ms/step - loss: 0.1302 - accuracy: 0.9634\n",
            "Epoch 41/100\n",
            "469/469 [==============================] - 2s 4ms/step - loss: 0.1281 - accuracy: 0.9644\n",
            "Epoch 42/100\n",
            "469/469 [==============================] - 1s 3ms/step - loss: 0.1258 - accuracy: 0.9645\n",
            "Epoch 43/100\n",
            "469/469 [==============================] - 1s 3ms/step - loss: 0.1239 - accuracy: 0.9653\n",
            "Epoch 44/100\n",
            "469/469 [==============================] - 1s 3ms/step - loss: 0.1218 - accuracy: 0.9661\n",
            "Epoch 45/100\n",
            "469/469 [==============================] - 1s 3ms/step - loss: 0.1202 - accuracy: 0.9661\n",
            "Epoch 46/100\n",
            "469/469 [==============================] - 1s 3ms/step - loss: 0.1184 - accuracy: 0.9669\n",
            "Epoch 47/100\n",
            "469/469 [==============================] - 1s 3ms/step - loss: 0.1167 - accuracy: 0.9673\n",
            "Epoch 48/100\n",
            "469/469 [==============================] - 2s 4ms/step - loss: 0.1147 - accuracy: 0.9686\n",
            "Epoch 49/100\n",
            "469/469 [==============================] - 2s 5ms/step - loss: 0.1131 - accuracy: 0.9683\n",
            "Epoch 50/100\n",
            "469/469 [==============================] - 1s 3ms/step - loss: 0.1116 - accuracy: 0.9690\n",
            "Epoch 51/100\n",
            "469/469 [==============================] - 1s 3ms/step - loss: 0.1101 - accuracy: 0.9692\n",
            "Epoch 52/100\n",
            "469/469 [==============================] - 1s 3ms/step - loss: 0.1085 - accuracy: 0.9696\n",
            "Epoch 53/100\n",
            "469/469 [==============================] - 1s 3ms/step - loss: 0.1071 - accuracy: 0.9702\n",
            "Epoch 54/100\n",
            "469/469 [==============================] - 1s 3ms/step - loss: 0.1056 - accuracy: 0.9706\n",
            "Epoch 55/100\n",
            "469/469 [==============================] - 1s 3ms/step - loss: 0.1043 - accuracy: 0.9708\n",
            "Epoch 56/100\n",
            "469/469 [==============================] - 1s 3ms/step - loss: 0.1030 - accuracy: 0.9712\n",
            "Epoch 57/100\n",
            "469/469 [==============================] - 2s 5ms/step - loss: 0.1018 - accuracy: 0.9716\n",
            "Epoch 58/100\n",
            "469/469 [==============================] - 2s 4ms/step - loss: 0.1003 - accuracy: 0.9720\n",
            "Epoch 59/100\n",
            "469/469 [==============================] - 1s 3ms/step - loss: 0.0992 - accuracy: 0.9720\n",
            "Epoch 60/100\n",
            "469/469 [==============================] - 1s 3ms/step - loss: 0.0979 - accuracy: 0.9726\n",
            "Epoch 61/100\n",
            "469/469 [==============================] - 1s 3ms/step - loss: 0.0969 - accuracy: 0.9728\n",
            "Epoch 62/100\n",
            "469/469 [==============================] - 1s 3ms/step - loss: 0.0956 - accuracy: 0.9729\n",
            "Epoch 63/100\n",
            "469/469 [==============================] - 1s 3ms/step - loss: 0.0945 - accuracy: 0.9731\n",
            "Epoch 64/100\n",
            "469/469 [==============================] - 1s 3ms/step - loss: 0.0934 - accuracy: 0.9738\n",
            "Epoch 65/100\n",
            "469/469 [==============================] - 2s 4ms/step - loss: 0.0923 - accuracy: 0.9738\n",
            "Epoch 66/100\n",
            "469/469 [==============================] - 2s 5ms/step - loss: 0.0914 - accuracy: 0.9741\n",
            "Epoch 67/100\n",
            "469/469 [==============================] - 2s 4ms/step - loss: 0.0901 - accuracy: 0.9747\n",
            "Epoch 68/100\n",
            "469/469 [==============================] - 2s 5ms/step - loss: 0.0891 - accuracy: 0.9752\n",
            "Epoch 69/100\n",
            "469/469 [==============================] - 3s 6ms/step - loss: 0.0884 - accuracy: 0.9751\n",
            "Epoch 70/100\n",
            "469/469 [==============================] - 2s 4ms/step - loss: 0.0872 - accuracy: 0.9754\n",
            "Epoch 71/100\n",
            "469/469 [==============================] - 2s 4ms/step - loss: 0.0863 - accuracy: 0.9754\n",
            "Epoch 72/100\n",
            "469/469 [==============================] - 2s 5ms/step - loss: 0.0852 - accuracy: 0.9760\n",
            "Epoch 73/100\n",
            "469/469 [==============================] - 3s 5ms/step - loss: 0.0844 - accuracy: 0.9765\n",
            "Epoch 74/100\n",
            "469/469 [==============================] - 2s 3ms/step - loss: 0.0835 - accuracy: 0.9766\n",
            "Epoch 75/100\n",
            "469/469 [==============================] - 2s 3ms/step - loss: 0.0827 - accuracy: 0.9767\n",
            "Epoch 76/100\n",
            "469/469 [==============================] - 2s 4ms/step - loss: 0.0817 - accuracy: 0.9769\n",
            "Epoch 77/100\n",
            "469/469 [==============================] - 2s 4ms/step - loss: 0.0809 - accuracy: 0.9772\n",
            "Epoch 78/100\n",
            "469/469 [==============================] - 2s 4ms/step - loss: 0.0801 - accuracy: 0.9773\n",
            "Epoch 79/100\n",
            "469/469 [==============================] - 3s 7ms/step - loss: 0.0793 - accuracy: 0.9777\n",
            "Epoch 80/100\n",
            "469/469 [==============================] - 3s 7ms/step - loss: 0.0785 - accuracy: 0.9777\n",
            "Epoch 81/100\n",
            "469/469 [==============================] - 2s 4ms/step - loss: 0.0775 - accuracy: 0.9782\n",
            "Epoch 82/100\n",
            "469/469 [==============================] - 2s 4ms/step - loss: 0.0768 - accuracy: 0.9783\n",
            "Epoch 83/100\n",
            "469/469 [==============================] - 2s 3ms/step - loss: 0.0761 - accuracy: 0.9789\n",
            "Epoch 84/100\n",
            "469/469 [==============================] - 1s 3ms/step - loss: 0.0753 - accuracy: 0.9784\n",
            "Epoch 85/100\n",
            "469/469 [==============================] - 2s 4ms/step - loss: 0.0746 - accuracy: 0.9793\n",
            "Epoch 86/100\n",
            "469/469 [==============================] - 3s 6ms/step - loss: 0.0737 - accuracy: 0.9791\n",
            "Epoch 87/100\n",
            "469/469 [==============================] - 3s 6ms/step - loss: 0.0731 - accuracy: 0.9796\n",
            "Epoch 88/100\n",
            "469/469 [==============================] - 1s 3ms/step - loss: 0.0724 - accuracy: 0.9797\n",
            "Epoch 89/100\n",
            "469/469 [==============================] - 2s 4ms/step - loss: 0.0716 - accuracy: 0.9798\n",
            "Epoch 90/100\n",
            "469/469 [==============================] - 2s 5ms/step - loss: 0.0711 - accuracy: 0.9799\n",
            "Epoch 91/100\n",
            "469/469 [==============================] - 2s 5ms/step - loss: 0.0703 - accuracy: 0.9804\n",
            "Epoch 92/100\n",
            "469/469 [==============================] - 3s 5ms/step - loss: 0.0698 - accuracy: 0.9804\n",
            "Epoch 93/100\n",
            "469/469 [==============================] - 4s 9ms/step - loss: 0.0690 - accuracy: 0.9804\n",
            "Epoch 94/100\n",
            "469/469 [==============================] - 2s 5ms/step - loss: 0.0683 - accuracy: 0.9806\n",
            "Epoch 95/100\n",
            "469/469 [==============================] - 2s 4ms/step - loss: 0.0677 - accuracy: 0.9812\n",
            "Epoch 96/100\n",
            "469/469 [==============================] - 1s 3ms/step - loss: 0.0670 - accuracy: 0.9811\n",
            "Epoch 97/100\n",
            "469/469 [==============================] - 2s 5ms/step - loss: 0.0665 - accuracy: 0.9814\n",
            "Epoch 98/100\n",
            "469/469 [==============================] - 3s 6ms/step - loss: 0.0657 - accuracy: 0.9815\n",
            "Epoch 99/100\n",
            "469/469 [==============================] - 3s 6ms/step - loss: 0.0652 - accuracy: 0.9815\n",
            "Epoch 100/100\n",
            "469/469 [==============================] - 1s 3ms/step - loss: 0.0645 - accuracy: 0.9817\n"
          ]
        },
        {
          "output_type": "execute_result",
          "data": {
            "text/plain": [
              "<keras.src.callbacks.History at 0x7987144a9ed0>"
            ]
          },
          "metadata": {},
          "execution_count": 19
        }
      ]
    },
    {
      "cell_type": "markdown",
      "source": [
        "**Evaluate The Trained Model On Test Set**"
      ],
      "metadata": {
        "id": "3OCtQ6vCUXzF"
      }
    },
    {
      "cell_type": "markdown",
      "source": [
        "Compute the model accuracy on test set."
      ],
      "metadata": {
        "id": "nZcbHVxrUfI9"
      }
    },
    {
      "cell_type": "code",
      "metadata": {
        "id": "K1cMOdJAG1-C",
        "colab": {
          "base_uri": "https://localhost:8080/"
        },
        "outputId": "2eb18f19-abcf-4592-ce58-c37a030f6d77"
      },
      "source": [
        "_, accuracy = model.evaluate(X_test, Y_test)\n",
        "\n",
        "print(accuracy)"
      ],
      "execution_count": null,
      "outputs": [
        {
          "output_type": "stream",
          "name": "stdout",
          "text": [
            "313/313 [==============================] - 1s 2ms/step - loss: 0.1005 - accuracy: 0.9698\n",
            "0.9697999954223633\n"
          ]
        }
      ]
    },
    {
      "cell_type": "markdown",
      "source": [
        "# CNN Model Using PyTorch"
      ],
      "metadata": {
        "id": "9mKSuoqPaZwI"
      }
    },
    {
      "cell_type": "markdown",
      "source": [
        "We will train and test a CNN model to classify images from the MNIST handwritten digits dataset using PyTorch."
      ],
      "metadata": {
        "id": "eXNi4xu7aohZ"
      }
    },
    {
      "cell_type": "markdown",
      "source": [
        "**Import Libraries**"
      ],
      "metadata": {
        "id": "aYLkM4uLawCm"
      }
    },
    {
      "cell_type": "code",
      "source": [
        "import numpy as np\n",
        "import torch\n",
        "import torchvision\n",
        "import matplotlib.pyplot as plt\n",
        "from time import time\n",
        "from torchvision import datasets, transforms\n",
        "from torch import nn, optim"
      ],
      "metadata": {
        "id": "QinODbQMa0FQ"
      },
      "execution_count": 45,
      "outputs": []
    },
    {
      "cell_type": "markdown",
      "source": [
        "**Check PyTorch Version**"
      ],
      "metadata": {
        "id": "2KSbney2a7ey"
      }
    },
    {
      "cell_type": "code",
      "source": [
        "print(torch.__version__)"
      ],
      "metadata": {
        "colab": {
          "base_uri": "https://localhost:8080/"
        },
        "id": "gpAWbNfFbCRb",
        "outputId": "0704d499-6bc3-4e63-aca4-1eaa1a0c0fd2"
      },
      "execution_count": 46,
      "outputs": [
        {
          "output_type": "stream",
          "name": "stdout",
          "text": [
            "2.1.2+cu121\n"
          ]
        }
      ]
    },
    {
      "cell_type": "markdown",
      "source": [
        "**Perform Transformations On The Images**"
      ],
      "metadata": {
        "id": "ojofYurlbMl3"
      }
    },
    {
      "cell_type": "markdown",
      "source": [
        "Perform some transformations on the images, such as normalizing the pixel values."
      ],
      "metadata": {
        "id": "a-0r29OgbQo6"
      }
    },
    {
      "cell_type": "code",
      "source": [
        "transform = transforms.Compose([transforms.ToTensor(),\n",
        "                              transforms.Normalize((0.5,), (0.5,)),\n",
        "                              ])"
      ],
      "metadata": {
        "id": "pNaY95rRbbZx"
      },
      "execution_count": 47,
      "outputs": []
    },
    {
      "cell_type": "markdown",
      "source": [
        "**Define The Training And Testing Sets**"
      ],
      "metadata": {
        "id": "rSPMNnR4bm3L"
      }
    },
    {
      "cell_type": "code",
      "source": [
        "trainset = datasets.MNIST('./data', download=True, train=True, transform=transform)\n",
        "testset = datasets.MNIST('./', download=True, train=False, transform=transform)"
      ],
      "metadata": {
        "id": "kO2ocintbuP_"
      },
      "execution_count": 48,
      "outputs": []
    },
    {
      "cell_type": "markdown",
      "source": [
        "**Define Trainloader And Testloader**"
      ],
      "metadata": {
        "id": "4N3ksDxRb-V3"
      }
    },
    {
      "cell_type": "markdown",
      "source": [
        "Define the batch size to 64."
      ],
      "metadata": {
        "id": "yyiFYyXdcIJV"
      }
    },
    {
      "cell_type": "code",
      "source": [
        "trainloader = torch.utils.data.DataLoader(trainset, batch_size=64, shuffle=True)\n",
        "testloader = torch.utils.data.DataLoader(testset, batch_size=64, shuffle=True)"
      ],
      "metadata": {
        "id": "yEZAzeMBcM0b"
      },
      "execution_count": 49,
      "outputs": []
    },
    {
      "cell_type": "code",
      "source": [
        "dataiter = iter(trainloader)\n",
        "images, labels = next(dataiter)\n",
        "\n",
        "print(images.shape)\n",
        "print(labels.shape)"
      ],
      "metadata": {
        "colab": {
          "base_uri": "https://localhost:8080/"
        },
        "id": "BK1KcisPcxSh",
        "outputId": "f6d0289a-dc42-4a70-d045-754f302a86a7"
      },
      "execution_count": 50,
      "outputs": [
        {
          "output_type": "stream",
          "name": "stdout",
          "text": [
            "torch.Size([64, 1, 28, 28])\n",
            "torch.Size([64])\n"
          ]
        }
      ]
    },
    {
      "cell_type": "markdown",
      "source": [
        "**Show An Example From Training Set**"
      ],
      "metadata": {
        "id": "1eL17ZntgP-W"
      }
    },
    {
      "cell_type": "code",
      "source": [
        "plt.imshow(images[0].numpy().squeeze(), cmap='gray')"
      ],
      "metadata": {
        "colab": {
          "base_uri": "https://localhost:8080/",
          "height": 447
        },
        "id": "WYE_qkzPgahM",
        "outputId": "e74d2b5e-d776-42e9-b622-c490aeafd884"
      },
      "execution_count": 51,
      "outputs": [
        {
          "output_type": "execute_result",
          "data": {
            "text/plain": [
              "<matplotlib.image.AxesImage at 0x796fcf4ee5c0>"
            ]
          },
          "metadata": {},
          "execution_count": 51
        },
        {
          "output_type": "display_data",
          "data": {
            "text/plain": [
              "<Figure size 640x480 with 1 Axes>"
            ],
            "image/png": "[encoded data removed]"
          },
          "metadata": {}
        }
      ]
    },
    {
      "cell_type": "code",
      "source": [
        "dataiter = iter(testloader)\n",
        "images, labels = next(dataiter)\n",
        "\n",
        "print(images.shape)\n",
        "print(labels.shape)"
      ],
      "metadata": {
        "colab": {
          "base_uri": "https://localhost:8080/"
        },
        "id": "5f_11gItg0rV",
        "outputId": "6e77c512-dc15-479d-84b4-c766224be361"
      },
      "execution_count": 52,
      "outputs": [
        {
          "output_type": "stream",
          "name": "stdout",
          "text": [
            "torch.Size([64, 1, 28, 28])\n",
            "torch.Size([64])\n"
          ]
        }
      ]
    },
    {
      "cell_type": "markdown",
      "source": [
        "**Define The Model Architecture**"
      ],
      "metadata": {
        "id": "NHVoYUkhhBmr"
      }
    },
    {
      "cell_type": "code",
      "source": [
        "class Net(nn.Module):\n",
        "  def __init__(self):\n",
        "      super(Net, self).__init__()\n",
        "\n",
        "      self.cnn_layers = nn.Sequential(\n",
        "          # Defining a 2D convolution layer\n",
        "          nn.Conv2d(1, 4, kernel_size=3, stride=1, padding=1),\n",
        "          nn.BatchNorm2d(4),\n",
        "          nn.ReLU(inplace=True),\n",
        "          nn.MaxPool2d(kernel_size=2, stride=2),\n",
        "          # Defining another 2D convolution layer\n",
        "          nn.Conv2d(4, 4, kernel_size=3, stride=1, padding=1),\n",
        "          nn.BatchNorm2d(4),\n",
        "          nn.ReLU(inplace=True),\n",
        "          nn.MaxPool2d(kernel_size=2, stride=2),\n",
        "      )\n",
        "\n",
        "      self.linear_layers = nn.Sequential(\n",
        "          nn.Linear(4 * 7 * 7, 10)\n",
        "      )"
      ],
      "metadata": {
        "id": "HP981l7GhG29"
      },
      "execution_count": 53,
      "outputs": []
    },
    {
      "cell_type": "markdown",
      "source": [
        "**Define The Forward Pass**"
      ],
      "metadata": {
        "id": "ztGIn8Z5hMDa"
      }
    },
    {
      "cell_type": "code",
      "source": [
        "def forward(self, x):\n",
        "      x = self.cnn_layers(x)\n",
        "      x = x.view(x.size(0), -1)\n",
        "      x = self.linear_layers(x)\n",
        "      return x"
      ],
      "metadata": {
        "id": "KFJHv2vrhQ2T"
      },
      "execution_count": 54,
      "outputs": []
    },
    {
      "cell_type": "markdown",
      "source": [
        "**Define The Model**"
      ],
      "metadata": {
        "id": "-VK9TgZ1hZms"
      }
    },
    {
      "cell_type": "code",
      "source": [
        "model = Net()"
      ],
      "metadata": {
        "id": "-tjP-UEdhccI"
      },
      "execution_count": 55,
      "outputs": []
    },
    {
      "cell_type": "markdown",
      "source": [
        "**Define The Optimizer**"
      ],
      "metadata": {
        "id": "kq_DXnQhhe41"
      }
    },
    {
      "cell_type": "code",
      "source": [
        "optimizer = optim.Adam(model.parameters(), lr=0.01)"
      ],
      "metadata": {
        "id": "kItdOFxxhiKZ"
      },
      "execution_count": 56,
      "outputs": []
    },
    {
      "cell_type": "markdown",
      "source": [
        "**Define The Loss Function**"
      ],
      "metadata": {
        "id": "dHsmyjwvhmj5"
      }
    },
    {
      "cell_type": "code",
      "source": [
        "criterion = nn.CrossEntropyLoss()"
      ],
      "metadata": {
        "id": "wh4vFtWOhpwc"
      },
      "execution_count": 57,
      "outputs": []
    },
    {
      "cell_type": "markdown",
      "source": [
        "**Check GPU Availability**"
      ],
      "metadata": {
        "id": "WEkka-r7hvkR"
      }
    },
    {
      "cell_type": "code",
      "source": [
        "if torch.cuda.is_available():\n",
        "    model = model.cuda()\n",
        "    criterion = criterion.cuda()\n",
        "\n",
        "print(model)"
      ],
      "metadata": {
        "colab": {
          "base_uri": "https://localhost:8080/"
        },
        "id": "wh79cTVihz7I",
        "outputId": "0c72f025-8099-4668-a2bb-b467c0346d70"
      },
      "execution_count": 58,
      "outputs": [
        {
          "output_type": "stream",
          "name": "stdout",
          "text": [
            "Net(\n",
            "  (cnn_layers): Sequential(\n",
            "    (0): Conv2d(1, 4, kernel_size=(3, 3), stride=(1, 1), padding=(1, 1))\n",
            "    (1): BatchNorm2d(4, eps=1e-05, momentum=0.1, affine=True, track_running_stats=True)\n",
            "    (2): ReLU(inplace=True)\n",
            "    (3): MaxPool2d(kernel_size=2, stride=2, padding=0, dilation=1, ceil_mode=False)\n",
            "    (4): Conv2d(4, 4, kernel_size=(3, 3), stride=(1, 1), padding=(1, 1))\n",
            "    (5): BatchNorm2d(4, eps=1e-05, momentum=0.1, affine=True, track_running_stats=True)\n",
            "    (6): ReLU(inplace=True)\n",
            "    (7): MaxPool2d(kernel_size=2, stride=2, padding=0, dilation=1, ceil_mode=False)\n",
            "  )\n",
            "  (linear_layers): Sequential(\n",
            "    (0): Linear(in_features=196, out_features=10, bias=True)\n",
            "  )\n",
            ")\n"
          ]
        }
      ]
    },
    {
      "cell_type": "markdown",
      "source": [
        "We have two convolotioanl layers to help extract features from the images and pass them to the fully connected layer that classify them into their respective class."
      ],
      "metadata": {
        "id": "y-Jxq_GDiCV7"
      }
    },
    {
      "cell_type": "markdown",
      "source": [
        "**Train The Model**"
      ],
      "metadata": {
        "id": "ewI8izTgifrf"
      }
    },
    {
      "cell_type": "markdown",
      "source": [
        "Train the model for 10 epochs."
      ],
      "metadata": {
        "id": "C44tSPm3ilrW"
      }
    },
    {
      "cell_type": "code",
      "source": [
        "import torch\n",
        "from torch import nn\n",
        "from torch.nn import functional as F\n",
        "from torch.utils.data import DataLoader\n",
        "from torchvision import datasets\n",
        "from torchvision.transforms import ToTensor\n",
        "\n",
        "# Define the model\n",
        "class Net(nn.Module):\n",
        "    def __init__(self):\n",
        "        super().__init__()\n",
        "        self.cnn_layers = nn.Sequential(\n",
        "            nn.Conv2d(in_channels=1, out_channels=32, kernel_size=3, padding=1),\n",
        "            nn.BatchNorm2d(32),\n",
        "            nn.ReLU(),\n",
        "            nn.MaxPool2d(kernel_size=2),\n",
        "            nn.Conv2d(in_channels=32, out_channels=64, kernel_size=3, padding=1),\n",
        "            nn.BatchNorm2d(64),\n",
        "            nn.ReLU(),\n",
        "            nn.MaxPool2d(kernel_size=2),\n",
        "            nn.Flatten(),\n",
        "            nn.Linear(in_features=64 * 7 * 7, out_features=128),\n",
        "            nn.ReLU(),\n",
        "            nn.Linear(in_features=128, out_features=10)\n",
        "        )\n",
        "\n",
        "    def forward(self, x):\n",
        "        return self.cnn_layers(x)\n",
        "\n",
        "\n",
        "# Load the data\n",
        "train_data = datasets.MNIST(\n",
        "    root=\"data\",\n",
        "    train=True,\n",
        "    transform=ToTensor(),\n",
        "    download=True,\n",
        ")\n",
        "\n",
        "test_data = datasets.MNIST(\n",
        "    root=\"data\",\n",
        "    train=False,\n",
        "    transform=ToTensor(),\n",
        "    download=True,\n",
        ")\n",
        "\n",
        "# Create the data loaders\n",
        "trainloader = DataLoader(train_data, batch_size=64, shuffle=True)\n",
        "testloader = DataLoader(test_data, batch_size=64, shuffle=False)\n",
        "\n",
        "# Create the model\n",
        "model = Net()\n",
        "\n",
        "# Create the criterion and optimizer\n",
        "criterion = F.cross_entropy"
      ],
      "metadata": {
        "id": "lC_57v5bqzFe"
      },
      "execution_count": 67,
      "outputs": []
    },
    {
      "cell_type": "code",
      "source": [
        "for i in range(10):\n",
        "    running_loss = 0\n",
        "    for images, labels in trainloader:\n",
        "\n",
        "        if torch.cuda.is_available():\n",
        "          images = images.cuda()\n",
        "          labels = labels.cuda()\n",
        "\n",
        "        # Training pass\n",
        "        optimizer.zero_grad()\n",
        "\n",
        "        output = model(images)\n",
        "        loss = criterion(output, labels)\n",
        "\n",
        "        #This is where the model learns by backpropagating\n",
        "        loss.backward()\n",
        "\n",
        "        #And optimizes its weights here\n",
        "        optimizer.step()\n",
        "\n",
        "        running_loss += loss.item()\n",
        "    else:\n",
        "        print(\"Epoch {} - Training loss: {}\".format(i+1, running_loss/len(trainloader)))"
      ],
      "metadata": {
        "id": "3YirBNucicxa",
        "colab": {
          "base_uri": "https://localhost:8080/"
        },
        "outputId": "17c2ef88-98b5-44fd-fa30-2979ff5328fa"
      },
      "execution_count": 68,
      "outputs": [
        {
          "output_type": "stream",
          "name": "stdout",
          "text": [
            "Epoch 1 - Training loss: 2.337424606148368\n",
            "Epoch 2 - Training loss: 2.337333609808737\n",
            "Epoch 3 - Training loss: 2.337394889483828\n",
            "Epoch 4 - Training loss: 2.3373294301124523\n",
            "Epoch 5 - Training loss: 2.337382724544387\n",
            "Epoch 6 - Training loss: 2.337381942185766\n",
            "Epoch 7 - Training loss: 2.3374064906573753\n",
            "Epoch 8 - Training loss: 2.3373867573260245\n",
            "Epoch 9 - Training loss: 2.337429886179438\n",
            "Epoch 10 - Training loss: 2.3374140272770862\n"
          ]
        }
      ]
    },
    {
      "cell_type": "code",
      "source": [
        "correct_count, all_count = 0, 0\n",
        "for images,labels in testloader:\n",
        "  for i in range(len(labels)):\n",
        "    if torch.cuda.is_available():\n",
        "        images = images.cuda()\n",
        "        labels = labels.cuda()\n",
        "    img = images[i].view(1, 1, 28, 28)\n",
        "    with torch.no_grad():\n",
        "        logps = model(img)\n",
        "\n",
        "\n",
        "    ps = torch.exp(logps)\n",
        "    probab = list(ps.cpu()[0])\n",
        "    pred_label = probab.index(max(probab))\n",
        "    true_label = labels.cpu()[i]\n",
        "    if(true_label == pred_label):\n",
        "      correct_count += 1\n",
        "    all_count += 1\n",
        "\n",
        "print(\"Number Of Images Tested =\", all_count)\n",
        "print(\"\\nModel Accuracy =\", (correct_count/all_count))"
      ],
      "metadata": {
        "colab": {
          "base_uri": "https://localhost:8080/"
        },
        "id": "Vu8Fx-Q0ndgc",
        "outputId": "5cf7417d-e871-4e08-c106-c0ebae603b01"
      },
      "execution_count": 71,
      "outputs": [
        {
          "output_type": "stream",
          "name": "stdout",
          "text": [
            "Number Of Images Tested = 10000\n",
            "\n",
            "Model Accuracy = 0.1079\n"
          ]
        }
      ]
    },
    {
      "cell_type": "markdown",
      "source": [
        "The accuracy of the model is 0.1079 which prove that PyTorch may not the perfect choice for this dataset."
      ],
      "metadata": {
        "id": "QcPjc6Fbu2w9"
      }
    },
    {
      "cell_type": "markdown",
      "source": [
        "# CNN Model Using TensorFlow"
      ],
      "metadata": {
        "id": "Hu1_6uiMolXm"
      }
    },
    {
      "cell_type": "markdown",
      "source": [
        "We will train and test a CNN model to classify images from the MNIST handwritten digits dataset using TensorFlow."
      ],
      "metadata": {
        "id": "LaGcy2Wfoy-T"
      }
    },
    {
      "cell_type": "markdown",
      "source": [
        "**Import Libraries**"
      ],
      "metadata": {
        "id": "AKGyxUWOo5Bg"
      }
    },
    {
      "cell_type": "code",
      "source": [
        "import tensorflow as tf\n",
        "\n",
        "from tensorflow.keras import datasets, layers, models\n",
        "from tensorflow.keras.utils import to_categorical\n",
        "import matplotlib.pyplot as plt"
      ],
      "metadata": {
        "id": "Prb_opE3o7n3"
      },
      "execution_count": 72,
      "outputs": []
    },
    {
      "cell_type": "markdown",
      "source": [
        "**Check TensorFlow Version**"
      ],
      "metadata": {
        "id": "ZkaK0EfzvFk8"
      }
    },
    {
      "cell_type": "code",
      "source": [
        "print(tf.__version__)"
      ],
      "metadata": {
        "colab": {
          "base_uri": "https://localhost:8080/"
        },
        "id": "EBxnH8r4vJYz",
        "outputId": "2548b9ec-ed5c-4cbe-d167-2e4a06ad2a54"
      },
      "execution_count": 73,
      "outputs": [
        {
          "output_type": "stream",
          "name": "stdout",
          "text": [
            "2.15.0\n"
          ]
        }
      ]
    },
    {
      "cell_type": "markdown",
      "source": [
        "**Define The Train And Test Sets**"
      ],
      "metadata": {
        "id": "OH4JGSF5vQUk"
      }
    },
    {
      "cell_type": "code",
      "source": [
        "(train_images, train_labels), (test_images, test_labels) = datasets.mnist.load_data(path='mnist.npz')\n",
        "\n",
        "# Normalize pixel values to be between 0 and 1\n",
        "train_images, test_images = train_images / 255.0, test_images / 255.0"
      ],
      "metadata": {
        "id": "XhMHOq5HvXIe"
      },
      "execution_count": 75,
      "outputs": []
    },
    {
      "cell_type": "markdown",
      "source": [
        "**Visualize Few Images**"
      ],
      "metadata": {
        "id": "HXG-dPxgvihx"
      }
    },
    {
      "cell_type": "code",
      "source": [
        "plt.figure(figsize=(10,10))\n",
        "for i in range(9):\n",
        "    plt.subplot(3,3,i+1)\n",
        "    plt.xticks([])\n",
        "    plt.yticks([])\n",
        "    plt.grid(False)\n",
        "    plt.imshow(train_images[i], cmap='gray')\n",
        "plt.show()"
      ],
      "metadata": {
        "colab": {
          "base_uri": "https://localhost:8080/",
          "height": 807
        },
        "id": "Imh2odO8vnNu",
        "outputId": "ee03310a-7e63-4af6-bee8-75f9eb67cedb"
      },
      "execution_count": 76,
      "outputs": [
        {
          "output_type": "display_data",
          "data": {
            "text/plain": [
              "<Figure size 1000x1000 with 9 Axes>"
            ],
            "image/png": "[encoded data removed]"
          },
          "metadata": {}
        }
      ]
    },
    {
      "cell_type": "markdown",
      "source": [
        "**Check the Training And Test Sets**"
      ],
      "metadata": {
        "id": "qLcfa3VhvuK0"
      }
    },
    {
      "cell_type": "code",
      "source": [
        "(train_images.shape, train_labels.shape), (test_images.shape, test_labels.shape)"
      ],
      "metadata": {
        "colab": {
          "base_uri": "https://localhost:8080/"
        },
        "id": "6gZfF4Z2vx7f",
        "outputId": "5250e844-8f45-45a9-f847-e513c32a5b6c"
      },
      "execution_count": 77,
      "outputs": [
        {
          "output_type": "execute_result",
          "data": {
            "text/plain": [
              "(((60000, 28, 28), (60000,)), ((10000, 28, 28), (10000,)))"
            ]
          },
          "metadata": {},
          "execution_count": 77
        }
      ]
    },
    {
      "cell_type": "markdown",
      "source": [
        "**Reshape The Images**"
      ],
      "metadata": {
        "id": "XXoIwdRGv4iI"
      }
    },
    {
      "cell_type": "code",
      "source": [
        "train_images = train_images.reshape((60000, 28, 28, 1))\n",
        "test_images = test_images.reshape((10000, 28, 28, 1))"
      ],
      "metadata": {
        "id": "QPh39davv7or"
      },
      "execution_count": 78,
      "outputs": []
    },
    {
      "cell_type": "markdown",
      "source": [
        "**One Hot Encode The Target Variable**"
      ],
      "metadata": {
        "id": "UHTn2av1wAdh"
      }
    },
    {
      "cell_type": "code",
      "source": [
        "train_labels = to_categorical(train_labels)\n",
        "test_labels = to_categorical(test_labels)"
      ],
      "metadata": {
        "id": "CyMrnbVjwE8Y"
      },
      "execution_count": 79,
      "outputs": []
    },
    {
      "cell_type": "markdown",
      "source": [
        "**Define The Model Architecture**"
      ],
      "metadata": {
        "id": "S8QigNyrwJB1"
      }
    },
    {
      "cell_type": "code",
      "source": [
        "model = models.Sequential()\n",
        "model.add(layers.Conv2D(4, (3, 3), activation='relu', input_shape=(28, 28, 1)))\n",
        "model.add(layers.MaxPooling2D((2, 2), strides=2))\n",
        "model.add(layers.Conv2D(4, (3, 3), activation='relu'))\n",
        "model.add(layers.MaxPooling2D((2, 2), strides=2))\n",
        "model.add(layers.Flatten())\n",
        "model.add(layers.Dense(10, activation='softmax'))"
      ],
      "metadata": {
        "id": "d_UULJuqwM30"
      },
      "execution_count": 80,
      "outputs": []
    },
    {
      "cell_type": "code",
      "source": [
        "model.summary()"
      ],
      "metadata": {
        "colab": {
          "base_uri": "https://localhost:8080/"
        },
        "id": "HCYyajvKwT9U",
        "outputId": "233c47bd-7f2a-4b50-a352-9aebc2793bf3"
      },
      "execution_count": 81,
      "outputs": [
        {
          "output_type": "stream",
          "name": "stdout",
          "text": [
            "Model: \"sequential\"\n",
            "_________________________________________________________________\n",
            " Layer (type)                Output Shape              Param #   \n",
            "=================================================================\n",
            " conv2d (Conv2D)             (None, 26, 26, 4)         40        \n",
            "                                                                 \n",
            " max_pooling2d (MaxPooling2  (None, 13, 13, 4)         0         \n",
            " D)                                                              \n",
            "                                                                 \n",
            " conv2d_1 (Conv2D)           (None, 11, 11, 4)         148       \n",
            "                                                                 \n",
            " max_pooling2d_1 (MaxPoolin  (None, 5, 5, 4)           0         \n",
            " g2D)                                                            \n",
            "                                                                 \n",
            " flatten (Flatten)           (None, 100)               0         \n",
            "                                                                 \n",
            " dense (Dense)               (None, 10)                1010      \n",
            "                                                                 \n",
            "=================================================================\n",
            "Total params: 1198 (4.68 KB)\n",
            "Trainable params: 1198 (4.68 KB)\n",
            "Non-trainable params: 0 (0.00 Byte)\n",
            "_________________________________________________________________\n"
          ]
        }
      ]
    },
    {
      "cell_type": "markdown",
      "source": [
        "**Compile The Model**"
      ],
      "metadata": {
        "id": "JQNHtXylwYh3"
      }
    },
    {
      "cell_type": "code",
      "source": [
        "model.compile(optimizer='adam',\n",
        "              loss='categorical_crossentropy',\n",
        "              metrics=['accuracy'])"
      ],
      "metadata": {
        "id": "pqVwdPOrwbBE"
      },
      "execution_count": 82,
      "outputs": []
    },
    {
      "cell_type": "markdown",
      "source": [
        "**Train The Model**"
      ],
      "metadata": {
        "id": "ZHx60qyXwg1q"
      }
    },
    {
      "cell_type": "code",
      "source": [
        "history = model.fit(train_images, train_labels, epochs=10, validation_data=(test_images, test_labels))"
      ],
      "metadata": {
        "colab": {
          "base_uri": "https://localhost:8080/"
        },
        "id": "DGX_JtDxwlj9",
        "outputId": "fcca1946-3bd9-4650-e5bf-1766702a5912"
      },
      "execution_count": 84,
      "outputs": [
        {
          "output_type": "stream",
          "name": "stdout",
          "text": [
            "Epoch 1/10\n",
            "1875/1875 [==============================] - 25s 13ms/step - loss: 0.4715 - accuracy: 0.8532 - val_loss: 0.1884 - val_accuracy: 0.9415\n",
            "Epoch 2/10\n",
            "1875/1875 [==============================] - 23s 13ms/step - loss: 0.1685 - accuracy: 0.9477 - val_loss: 0.1319 - val_accuracy: 0.9582\n",
            "Epoch 3/10\n",
            "1875/1875 [==============================] - 23s 12ms/step - loss: 0.1318 - accuracy: 0.9592 - val_loss: 0.1088 - val_accuracy: 0.9653\n",
            "Epoch 4/10\n",
            "1875/1875 [==============================] - 23s 12ms/step - loss: 0.1163 - accuracy: 0.9635 - val_loss: 0.1022 - val_accuracy: 0.9665\n",
            "Epoch 5/10\n",
            "1875/1875 [==============================] - 24s 13ms/step - loss: 0.1066 - accuracy: 0.9666 - val_loss: 0.0936 - val_accuracy: 0.9684\n",
            "Epoch 6/10\n",
            "1875/1875 [==============================] - 24s 13ms/step - loss: 0.0995 - accuracy: 0.9693 - val_loss: 0.0864 - val_accuracy: 0.9712\n",
            "Epoch 7/10\n",
            "1875/1875 [==============================] - 23s 12ms/step - loss: 0.0950 - accuracy: 0.9695 - val_loss: 0.0825 - val_accuracy: 0.9728\n",
            "Epoch 8/10\n",
            "1875/1875 [==============================] - 23s 12ms/step - loss: 0.0906 - accuracy: 0.9719 - val_loss: 0.0811 - val_accuracy: 0.9748\n",
            "Epoch 9/10\n",
            "1875/1875 [==============================] - 24s 13ms/step - loss: 0.0873 - accuracy: 0.9728 - val_loss: 0.0805 - val_accuracy: 0.9734\n",
            "Epoch 10/10\n",
            "1875/1875 [==============================] - 23s 12ms/step - loss: 0.0856 - accuracy: 0.9734 - val_loss: 0.0825 - val_accuracy: 0.9721\n"
          ]
        }
      ]
    },
    {
      "cell_type": "markdown",
      "source": [
        "The training and validation accuracy after 10 epochs are 0.9734 and 0.9721 respectively."
      ],
      "metadata": {
        "id": "QKQWnY9_xnZv"
      }
    }
  ]
}
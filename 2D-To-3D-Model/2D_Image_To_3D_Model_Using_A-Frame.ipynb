{
  "nbformat": 4,
  "nbformat_minor": 0,
  "metadata": {
    "colab": {
      "provenance": [],
      "machine_shape": "hm",
      "gpuType": "A100"
    },
    "kernelspec": {
      "name": "python3",
      "display_name": "Python 3"
    },
    "language_info": {
      "name": "python"
    },
    "accelerator": "GPU"
  },
  "cells": [
    {
      "cell_type": "markdown",
      "source": [
        "\n",
        "# **2D Image To 3D VR Model**"
      ],
      "metadata": {
        "id": "O9AirYvAcD1C"
      }
    },
    {
      "cell_type": "markdown",
      "source": [
        "We will implement a method that create a 3D model from a 2D image that can be viewed later in webVR using the A-Frame."
      ],
      "metadata": {
        "id": "8lgE6wyBdFtW"
      }
    },
    {
      "cell_type": "markdown",
      "source": [
        "**Import Libraries**"
      ],
      "metadata": {
        "id": "A5d0wj62doB1"
      }
    },
    {
      "cell_type": "code",
      "execution_count": 1,
      "metadata": {
        "id": "aMYyp7e0YJOV"
      },
      "outputs": [],
      "source": [
        "import cv2 as cv\n",
        "import matplotlib.pyplot as plt"
      ]
    },
    {
      "cell_type": "markdown",
      "source": [
        "**Load 2D Image**"
      ],
      "metadata": {
        "id": "ZsyHdkqadscc"
      }
    },
    {
      "cell_type": "code",
      "source": [
        "aa = cv.imread('1.png')\n",
        "aa = cv.resize(aa, (32, 32), interpolation = cv.INTER_CUBIC)\n",
        "aa = cv.rotate(aa, cv.ROTATE_90_CLOCKWISE)"
      ],
      "metadata": {
        "id": "eUO1YDFkYoOJ"
      },
      "execution_count": 4,
      "outputs": []
    },
    {
      "cell_type": "code",
      "source": [
        "aa.shape"
      ],
      "metadata": {
        "colab": {
          "base_uri": "https://localhost:8080/"
        },
        "id": "hZDERPRXbJaz",
        "outputId": "5808e415-ae4e-4c05-c382-4262d99c1c40"
      },
      "execution_count": 5,
      "outputs": [
        {
          "output_type": "execute_result",
          "data": {
            "text/plain": [
              "(32, 32, 3)"
            ]
          },
          "metadata": {},
          "execution_count": 5
        }
      ]
    },
    {
      "cell_type": "markdown",
      "source": [
        "**Process 2D Image**"
      ],
      "metadata": {
        "id": "n8UgHDKGeExi"
      }
    },
    {
      "cell_type": "markdown",
      "source": [
        "We will convert pixels with R,G,B component value of 225 to grey."
      ],
      "metadata": {
        "id": "JmawUlRQeY8G"
      }
    },
    {
      "cell_type": "code",
      "source": [
        "for i in range(aa.shape[0]):\n",
        "    for j in range(aa.shape[1]):\n",
        "        if aa[i,j,0]>225 and aa[i,j,1]>225 and aa[i,j,2]>225:\n",
        "            aa[i,j,0] = 128\n",
        "            aa[i,j,1] = 128\n",
        "            aa[i,j,2] = 128"
      ],
      "metadata": {
        "id": "uWrSEiQtbM5b"
      },
      "execution_count": 6,
      "outputs": []
    },
    {
      "cell_type": "markdown",
      "source": [
        "**Create 3D Object**"
      ],
      "metadata": {
        "id": "ePVESvI2gLNm"
      }
    },
    {
      "cell_type": "markdown",
      "source": [
        "We will iterate through the whole image, select pixels that are not gray(128,128,128), and create an a-box with the same color for every selected pixel."
      ],
      "metadata": {
        "id": "XFzXVTVrgO_L"
      }
    },
    {
      "cell_type": "code",
      "source": [
        "#<a-box id=\"new\" color=\"blue\" position=\"2 2 2\" ></a-box>\n",
        "ind = 1\n",
        "strlis = []\n",
        "for i in range(aa.shape[0]):\n",
        "    for j in range(aa.shape[1]):\n",
        "        if aa[i,j,0]!=128 and aa[i,j,1]!=128 and aa[i,j,2]!=128:\n",
        "            str1 = '<a-box id=\"new\" color=\"'\n",
        "            colo = '#%02x%02x%02x' % (aa[i,j,2], aa[i,j,1], aa[i,j,0])\n",
        "            str2 = colo+'\"'+' position='\n",
        "            str3 = '\"'+str(i)+' '+str(j)+' '+str(ind)+'\"'+'></a-box>'\n",
        "            strlis.append(str1+str2+str3)\n",
        "    ind = ind + 1"
      ],
      "metadata": {
        "id": "AcDcxCwgfGJd"
      },
      "execution_count": 8,
      "outputs": []
    },
    {
      "cell_type": "code",
      "source": [
        "len(strlis)"
      ],
      "metadata": {
        "colab": {
          "base_uri": "https://localhost:8080/"
        },
        "id": "H_6zfdA1faWi",
        "outputId": "a503157d-9577-49ce-bb0b-5cef769bf4c0"
      },
      "execution_count": 9,
      "outputs": [
        {
          "output_type": "execute_result",
          "data": {
            "text/plain": [
              "469"
            ]
          },
          "metadata": {},
          "execution_count": 9
        }
      ]
    },
    {
      "cell_type": "markdown",
      "source": [
        "**Create A-Frame Code File**"
      ],
      "metadata": {
        "id": "KvZwjM94glT2"
      }
    },
    {
      "cell_type": "markdown",
      "source": [
        "We will write the A-Frame code to a new file."
      ],
      "metadata": {
        "id": "aRpjVdQ8g0R5"
      }
    },
    {
      "cell_type": "code",
      "source": [
        "myfile = open(\"3DGenerated.txt\", \"w\")\n",
        "for line in strlis:\n",
        "   myfile.write(\"%sn\" % line)\n",
        "myfile.close()"
      ],
      "metadata": {
        "id": "9-2uG1C8fHaY"
      },
      "execution_count": 10,
      "outputs": []
    },
    {
      "cell_type": "markdown",
      "source": [
        "**Show A-Frame Visualization**"
      ],
      "metadata": {
        "id": "SL44QiyIhKkv"
      }
    },
    {
      "cell_type": "code",
      "source": [
        "plt.imshow(aa)"
      ],
      "metadata": {
        "colab": {
          "base_uri": "https://localhost:8080/",
          "height": 447
        },
        "id": "7dNEqxnRfxU5",
        "outputId": "d0df9e30-5b58-4ede-d381-f7b221da4e0d"
      },
      "execution_count": 11,
      "outputs": [
        {
          "output_type": "execute_result",
          "data": {
            "text/plain": [
              "<matplotlib.image.AxesImage at 0x7eace039d660>"
            ]
          },
          "metadata": {},
          "execution_count": 11
        },
        {
          "output_type": "display_data",
          "data": {
            "text/plain": [
              "<Figure size 640x480 with 1 Axes>"
            ],
            "image/png": "[encoded data removed]"
          },
          "metadata": {}
        }
      ]
    }
  ]
}